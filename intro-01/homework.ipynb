{
 "cells": [
  {
   "cell_type": "code",
   "execution_count": 13,
   "id": "9cc9dd56-3933-4448-b34c-7d8b36916fca",
   "metadata": {},
   "outputs": [],
   "source": [
    "import openai"
   ]
  },
  {
   "cell_type": "code",
   "execution_count": 14,
   "id": "f7fd07cb-e5e8-4870-89d1-e32b9c6fdbcc",
   "metadata": {},
   "outputs": [],
   "source": [
    "from openai import OpenAI"
   ]
  },
  {
   "cell_type": "code",
   "execution_count": 15,
   "id": "f095a1f2-0ae6-466e-ad1a-e80c2a1a2048",
   "metadata": {},
   "outputs": [],
   "source": [
    "client = OpenAI(api_key=\"key\")"
   ]
  },
  {
   "cell_type": "code",
   "execution_count": 21,
   "id": "79e9100f-4ba6-47e9-bab6-3ef06778be59",
   "metadata": {},
   "outputs": [],
   "source": [
    "response = client.chat.completions.create(\n",
    "    model='gpt-4o',\n",
    "    messages=[{\"role\": \"user\", \"content\": \"is it too late to join the course?\"}]\n",
    ")"
   ]
  },
  {
   "cell_type": "code",
   "execution_count": 26,
   "id": "03afecff-42aa-45fd-acf8-6405d7ef32e5",
   "metadata": {},
   "outputs": [
    {
     "data": {
      "text/plain": [
       "\"It's important to check the specific enrollment deadlines for the course you're interested in. Each institution or course provider has its own schedule and policies regarding late enrollment. Here are a few steps you can take:\\n\\n1. **Check the Course Website:** Often, important dates and deadlines are posted on the institution's or course's official website.\\n\\n2. **Contact the Admissions Office:** If the information isn't clear online, reach out directly to the admissions office or course coordinator. They can provide the most accurate information.\\n\\n3. **Look for Late Enrollment Options:** Some courses offer late enrollment or have rolling admissions, meaning you can join even after the official start date. There may be specific procedures or requirements for this.\\n\\n4. **Consider Online Courses:** Many online courses allow for more flexible start dates, so if you're worried about missing a deadline, this could be a good alternative.\\n\\n5. **Review the Impact:** If enrolling late is an option, consider how it might impact your ability to catch up on missed material, participate in group projects, or meet other course requirements.\\n\\nIf you provide more specific details about the course in question, I might be able to give more targeted advice.\""
      ]
     },
     "execution_count": 26,
     "metadata": {},
     "output_type": "execute_result"
    }
   ],
   "source": [
    "response.choices[0].message.content"
   ]
  },
  {
   "cell_type": "code",
   "execution_count": null,
   "id": "e5c6cd4c-1d03-4e8c-abd0-f2cac8cf8df9",
   "metadata": {},
   "outputs": [],
   "source": []
  }
 ],
 "metadata": {
  "kernelspec": {
   "display_name": "Python 3 (ipykernel)",
   "language": "python",
   "name": "python3"
  },
  "language_info": {
   "codemirror_mode": {
    "name": "ipython",
    "version": 3
   },
   "file_extension": ".py",
   "mimetype": "text/x-python",
   "name": "python",
   "nbconvert_exporter": "python",
   "pygments_lexer": "ipython3",
   "version": "3.10.13"
  }
 },
 "nbformat": 4,
 "nbformat_minor": 5
}
